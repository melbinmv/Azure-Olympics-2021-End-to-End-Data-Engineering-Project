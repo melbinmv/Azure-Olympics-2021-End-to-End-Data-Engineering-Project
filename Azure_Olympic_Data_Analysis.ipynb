{
  "nbformat": 4,
  "nbformat_minor": 0,
  "metadata": {
    "colab": {
      "provenance": [],
      "authorship_tag": "ABX9TyO9f7LIAPfAM4gvuBh2MCre",
      "include_colab_link": true
    },
    "kernelspec": {
      "name": "python3",
      "display_name": "Python 3"
    },
    "language_info": {
      "name": "python"
    }
  },
  "cells": [
    {
      "cell_type": "markdown",
      "metadata": {
        "id": "view-in-github",
        "colab_type": "text"
      },
      "source": [
        "<a href=\"https://colab.research.google.com/github/melbinmv/Azure_Olympic/blob/main/Azure_Olympic_Data_Analysis.ipynb\" target=\"_parent\"><img src=\"https://colab.research.google.com/assets/colab-badge.svg\" alt=\"Open In Colab\"/></a>"
      ]
    },
    {
      "cell_type": "code",
      "source": [
        "pip install pyspark"
      ],
      "metadata": {
        "colab": {
          "base_uri": "https://localhost:8080/"
        },
        "id": "DwtK0nUbWidv",
        "outputId": "4920425b-032c-4116-856b-85e404f2220f"
      },
      "execution_count": 2,
      "outputs": [
        {
          "output_type": "stream",
          "name": "stdout",
          "text": [
            "Collecting pyspark\n",
            "  Downloading pyspark-3.5.1.tar.gz (317.0 MB)\n",
            "\u001b[2K     \u001b[90m━━━━━━━━━━━━━━━━━━━━━━━━━━━━━━━━━━━━━━━━\u001b[0m \u001b[32m317.0/317.0 MB\u001b[0m \u001b[31m4.4 MB/s\u001b[0m eta \u001b[36m0:00:00\u001b[0m\n",
            "\u001b[?25h  Preparing metadata (setup.py) ... \u001b[?25l\u001b[?25hdone\n",
            "Requirement already satisfied: py4j==0.10.9.7 in /usr/local/lib/python3.10/dist-packages (from pyspark) (0.10.9.7)\n",
            "Building wheels for collected packages: pyspark\n",
            "  Building wheel for pyspark (setup.py) ... \u001b[?25l\u001b[?25hdone\n",
            "  Created wheel for pyspark: filename=pyspark-3.5.1-py2.py3-none-any.whl size=317488491 sha256=e15548199b10ac1c21707e9c53d26f9a9ffd1a3816fc453d4177584d01f53cca\n",
            "  Stored in directory: /root/.cache/pip/wheels/80/1d/60/2c256ed38dddce2fdd93be545214a63e02fbd8d74fb0b7f3a6\n",
            "Successfully built pyspark\n",
            "Installing collected packages: pyspark\n",
            "Successfully installed pyspark-3.5.1\n"
          ]
        }
      ]
    },
    {
      "cell_type": "code",
      "execution_count": 29,
      "metadata": {
        "id": "stj5GYXbWOFv"
      },
      "outputs": [],
      "source": [
        "import pyspark\n",
        "import pandas as pd\n",
        "from pyspark.sql import SparkSession\n",
        "from pyspark.sql.functions import col\n",
        "from pyspark.sql.types import IntegerType, DoubleType, BooleanType, DateType\n",
        "\n",
        "spark = SparkSession.builder.getOrCreate()"
      ]
    },
    {
      "cell_type": "code",
      "source": [
        "#Read data using pandas\n",
        "import pandas as pd\n",
        "athletes_url = \"https://raw.githubusercontent.com/melbinmv/Azure_Olympic/master/data/Athletes.csv\"\n",
        "coaches_url = \"https://raw.githubusercontent.com/melbinmv/Azure_Olympic/master/data/Coaches.csv\"\n",
        "entriesgender_url = \"https://raw.githubusercontent.com/melbinmv/Azure_Olympic/master/data/EntriesGender.csv\"\n",
        "medals_url = \"https://raw.githubusercontent.com/melbinmv/Azure_Olympic/master/data/Medals.csv\"\n",
        "teams_url = \"https://raw.githubusercontent.com/melbinmv/Azure_Olympic/master/data/Teams.csv\"\n",
        "\n",
        "\n",
        "athelets = pd.read_csv(athletes_url, encoding='latin-1')\n",
        "coaches = pd.read_csv(coaches_url, encoding='latin-1')\n",
        "entriesgender = pd.read_csv(entriesgender_url, encoding='latin-1')\n",
        "medals = pd.read_csv(medals_url, encoding='latin-1')\n",
        "teams = pd.read_csv(teams_url, encoding='latin-1')\n",
        "\n",
        "#Convert into a spark dataframe\n",
        "athletes_df = spark.createDataFrame(athelets)\n",
        "coaches_df = spark.createDataFrame(coaches)\n",
        "entriesgender_df = spark.createDataFrame(entriesgender)\n",
        "medals_df = spark.createDataFrame(medals)\n",
        "teams_df = spark.createDataFrame(teams)"
      ],
      "metadata": {
        "id": "skfzxoPVYnll"
      },
      "execution_count": 15,
      "outputs": []
    },
    {
      "cell_type": "code",
      "source": [
        "athletes_df.show()"
      ],
      "metadata": {
        "colab": {
          "base_uri": "https://localhost:8080/"
        },
        "id": "KOshqm1VeNDG",
        "outputId": "f04a9044-bb77-40b0-ff22-ec3ff0d1b561"
      },
      "execution_count": 16,
      "outputs": [
        {
          "output_type": "stream",
          "name": "stdout",
          "text": [
            "+--------------------+--------------------+-------------------+\n",
            "|          PersonName|             Country|         Discipline|\n",
            "+--------------------+--------------------+-------------------+\n",
            "|     AALERUD Katrine|              Norway|       Cycling Road|\n",
            "|         ABAD Nestor|               Spain|Artistic Gymnastics|\n",
            "|   ABAGNALE Giovanni|               Italy|             Rowing|\n",
            "|      ABALDE Alberto|               Spain|         Basketball|\n",
            "|       ABALDE Tamara|               Spain|         Basketball|\n",
            "|           ABALO Luc|              France|           Handball|\n",
            "|        ABAROA Cesar|               Chile|             Rowing|\n",
            "|       ABASS Abobakr|               Sudan|           Swimming|\n",
            "|    ABBASALI Hamideh|Islamic Republic ...|             Karate|\n",
            "|       ABBASOV Islam|          Azerbaijan|          Wrestling|\n",
            "|        ABBINGH Lois|         Netherlands|           Handball|\n",
            "|         ABBOT Emily|           Australia|Rhythmic Gymnastics|\n",
            "|       ABBOTT Monica|United States of ...|  Baseball/Softball|\n",
            "|ABDALLA Abubaker ...|               Qatar|          Athletics|\n",
            "|      ABDALLA Maryam|               Egypt|  Artistic Swimming|\n",
            "|      ABDALLAH Shahd|               Egypt|  Artistic Swimming|\n",
            "| ABDALRASOOL Mohamed|               Sudan|               Judo|\n",
            "|   ABDEL LATIF Radwa|               Egypt|           Shooting|\n",
            "|    ABDEL RAZEK Samy|               Egypt|           Shooting|\n",
            "|   ABDELAZIZ Abdalla|               Egypt|             Karate|\n",
            "+--------------------+--------------------+-------------------+\n",
            "only showing top 20 rows\n",
            "\n"
          ]
        }
      ]
    },
    {
      "cell_type": "code",
      "source": [
        "athletes_df.printSchema()"
      ],
      "metadata": {
        "colab": {
          "base_uri": "https://localhost:8080/"
        },
        "id": "j0N4uNMYeb_q",
        "outputId": "6f5de912-4de7-45ab-950c-7d094afedb56"
      },
      "execution_count": 17,
      "outputs": [
        {
          "output_type": "stream",
          "name": "stdout",
          "text": [
            "root\n",
            " |-- PersonName: string (nullable = true)\n",
            " |-- Country: string (nullable = true)\n",
            " |-- Discipline: string (nullable = true)\n",
            "\n"
          ]
        }
      ]
    },
    {
      "cell_type": "code",
      "source": [
        "coaches_df.show(10)"
      ],
      "metadata": {
        "colab": {
          "base_uri": "https://localhost:8080/"
        },
        "id": "E05L53K3WVl-",
        "outputId": "b52e27b1-e4d6-4374-d9a3-a74f8fc50d2f"
      },
      "execution_count": 19,
      "outputs": [
        {
          "output_type": "stream",
          "name": "stdout",
          "text": [
            "+--------------------+--------------------+-----------------+--------+\n",
            "|                Name|             Country|       Discipline|   Event|\n",
            "+--------------------+--------------------+-----------------+--------+\n",
            "|     ABDELMAGID Wael|               Egypt|         Football|     NaN|\n",
            "|           ABE Junya|               Japan|       Volleyball|     NaN|\n",
            "|       ABE Katsuhiko|               Japan|       Basketball|     NaN|\n",
            "|        ADAMA Cherif|       Côte d'Ivoire|         Football|     NaN|\n",
            "|          AGEBA Yuya|               Japan|       Volleyball|     NaN|\n",
            "|AIKMAN Siegfried ...|               Japan|           Hockey|     Men|\n",
            "|       AL SAADI Kais|             Germany|           Hockey|     Men|\n",
            "|       ALAMEDA Lonni|              Canada|Baseball/Softball|Softball|\n",
            "|     ALEKNO Vladimir|Islamic Republic ...|       Volleyball|     Men|\n",
            "|     ALEKSEEV Alexey|                 ROC|         Handball|   Women|\n",
            "+--------------------+--------------------+-----------------+--------+\n",
            "only showing top 10 rows\n",
            "\n"
          ]
        }
      ]
    },
    {
      "cell_type": "code",
      "source": [
        "coaches_df.printSchema()"
      ],
      "metadata": {
        "colab": {
          "base_uri": "https://localhost:8080/"
        },
        "id": "-yPV2cere2w5",
        "outputId": "92f3db5c-1bbb-4aba-dec3-7d7b3feba991"
      },
      "execution_count": 20,
      "outputs": [
        {
          "output_type": "stream",
          "name": "stdout",
          "text": [
            "root\n",
            " |-- Name: string (nullable = true)\n",
            " |-- Country: string (nullable = true)\n",
            " |-- Discipline: string (nullable = true)\n",
            " |-- Event: string (nullable = true)\n",
            "\n"
          ]
        }
      ]
    },
    {
      "cell_type": "code",
      "source": [
        "entriesgender_df.show(10)"
      ],
      "metadata": {
        "colab": {
          "base_uri": "https://localhost:8080/"
        },
        "id": "_ZWWGmfge4h_",
        "outputId": "8f97fdfa-46a6-40b2-f2ea-7e6ca26d99e9"
      },
      "execution_count": 22,
      "outputs": [
        {
          "output_type": "stream",
          "name": "stdout",
          "text": [
            "+-------------------+------+----+-----+\n",
            "|         Discipline|Female|Male|Total|\n",
            "+-------------------+------+----+-----+\n",
            "|     3x3 Basketball|    32|  32|   64|\n",
            "|            Archery|    64|  64|  128|\n",
            "|Artistic Gymnastics|    98|  98|  196|\n",
            "|  Artistic Swimming|   105|   0|  105|\n",
            "|          Athletics|   969|1072| 2041|\n",
            "|          Badminton|    86|  87|  173|\n",
            "|  Baseball/Softball|    90| 144|  234|\n",
            "|         Basketball|   144| 144|  288|\n",
            "|   Beach Volleyball|    48|  48|   96|\n",
            "|             Boxing|   102| 187|  289|\n",
            "+-------------------+------+----+-----+\n",
            "only showing top 10 rows\n",
            "\n"
          ]
        }
      ]
    },
    {
      "cell_type": "code",
      "source": [
        "entriesgender_df.printSchema()"
      ],
      "metadata": {
        "colab": {
          "base_uri": "https://localhost:8080/"
        },
        "id": "7RNqXvUze9IV",
        "outputId": "f2df2c7c-da51-4c49-a099-9582ecb6faf5"
      },
      "execution_count": 31,
      "outputs": [
        {
          "output_type": "stream",
          "name": "stdout",
          "text": [
            "root\n",
            " |-- Discipline: string (nullable = true)\n",
            " |-- Female: integer (nullable = true)\n",
            " |-- Male: integer (nullable = true)\n",
            " |-- Total: integer (nullable = true)\n",
            "\n"
          ]
        }
      ]
    },
    {
      "cell_type": "code",
      "source": [
        "entriesgender_df = entriesgender_df.withColumn(\"Female\",col(\"Female\").cast(IntegerType()))\\\n",
        "    .withColumn(\"Male\",col(\"Male\").cast(IntegerType()))\\\n",
        "    .withColumn(\"Total\",col(\"Total\").cast(IntegerType()))"
      ],
      "metadata": {
        "id": "8SERFL9PfCEO"
      },
      "execution_count": 30,
      "outputs": []
    },
    {
      "cell_type": "code",
      "source": [
        "medals_df.show(10)"
      ],
      "metadata": {
        "colab": {
          "base_uri": "https://localhost:8080/"
        },
        "id": "XnPvGu09hQIs",
        "outputId": "c5aa7562-2250-4c82-b8d8-220fd59fe6e4"
      },
      "execution_count": 49,
      "outputs": [
        {
          "output_type": "stream",
          "name": "stdout",
          "text": [
            "+----+--------------------+----+------+------+-----+-------------+\n",
            "|Rank|        Team_Country|Gold|Silver|Bronze|Total|Rank by Total|\n",
            "+----+--------------------+----+------+------+-----+-------------+\n",
            "|   1|United States of ...|  39|    41|    33|  113|            1|\n",
            "|   2|People's Republic...|  38|    32|    18|   88|            2|\n",
            "|   3|               Japan|  27|    14|    17|   58|            5|\n",
            "|   4|       Great Britain|  22|    21|    22|   65|            4|\n",
            "|   5|                 ROC|  20|    28|    23|   71|            3|\n",
            "|   6|           Australia|  17|     7|    22|   46|            6|\n",
            "|   7|         Netherlands|  10|    12|    14|   36|            9|\n",
            "|   8|              France|  10|    12|    11|   33|           10|\n",
            "|   9|             Germany|  10|    11|    16|   37|            8|\n",
            "|  10|               Italy|  10|    10|    20|   40|            7|\n",
            "+----+--------------------+----+------+------+-----+-------------+\n",
            "only showing top 10 rows\n",
            "\n"
          ]
        }
      ]
    },
    {
      "cell_type": "code",
      "source": [
        "medals_df.printSchema()"
      ],
      "metadata": {
        "colab": {
          "base_uri": "https://localhost:8080/"
        },
        "id": "JZsUJv_3hyo-",
        "outputId": "d0bbf226-14f1-42ae-c4d8-f3ef608d746a"
      },
      "execution_count": 50,
      "outputs": [
        {
          "output_type": "stream",
          "name": "stdout",
          "text": [
            "root\n",
            " |-- Rank: long (nullable = true)\n",
            " |-- Team_Country: string (nullable = true)\n",
            " |-- Gold: integer (nullable = true)\n",
            " |-- Silver: integer (nullable = true)\n",
            " |-- Bronze: integer (nullable = true)\n",
            " |-- Total: integer (nullable = true)\n",
            " |-- Rank by Total: integer (nullable = true)\n",
            "\n"
          ]
        }
      ]
    },
    {
      "cell_type": "code",
      "source": [
        "medals_df = medals_df.withColumn(\"Gold\",col(\"Gold\").cast(IntegerType()))\\\n",
        "    .withColumn(\"Silver\",col(\"Silver\").cast(IntegerType()))\\\n",
        "    .withColumn(\"Bronze\",col(\"Bronze\").cast(IntegerType()))\\\n",
        "    .withColumn(\"Total\",col(\"Total\").cast(IntegerType()))"
      ],
      "metadata": {
        "id": "N1WsH0Myh2gT"
      },
      "execution_count": 41,
      "outputs": []
    },
    {
      "cell_type": "code",
      "source": [
        "teams_df.show(10)"
      ],
      "metadata": {
        "colab": {
          "base_uri": "https://localhost:8080/"
        },
        "id": "ocMj1i-qj0Mo",
        "outputId": "232d7fca-0d06-4da9-87e9-9ae606bce41e"
      },
      "execution_count": 52,
      "outputs": [
        {
          "output_type": "stream",
          "name": "stdout",
          "text": [
            "+-----------+--------------+--------------------+-----+\n",
            "|   TeamName|    Discipline|             Country|Event|\n",
            "+-----------+--------------+--------------------+-----+\n",
            "|    Belgium|3x3 Basketball|             Belgium|  Men|\n",
            "|      China|3x3 Basketball|People's Republic...|  Men|\n",
            "|      China|3x3 Basketball|People's Republic...|Women|\n",
            "|     France|3x3 Basketball|              France|Women|\n",
            "|      Italy|3x3 Basketball|               Italy|Women|\n",
            "|      Japan|3x3 Basketball|               Japan|  Men|\n",
            "|      Japan|3x3 Basketball|               Japan|Women|\n",
            "|     Latvia|3x3 Basketball|              Latvia|  Men|\n",
            "|   Mongolia|3x3 Basketball|            Mongolia|Women|\n",
            "|Netherlands|3x3 Basketball|         Netherlands|  Men|\n",
            "+-----------+--------------+--------------------+-----+\n",
            "only showing top 10 rows\n",
            "\n"
          ]
        }
      ]
    },
    {
      "cell_type": "code",
      "source": [
        "teams_df.printSchema()"
      ],
      "metadata": {
        "colab": {
          "base_uri": "https://localhost:8080/"
        },
        "id": "CV8hrwtplAdv",
        "outputId": "a4b417e4-7f25-4556-a822-9b26f381bf13"
      },
      "execution_count": 53,
      "outputs": [
        {
          "output_type": "stream",
          "name": "stdout",
          "text": [
            "root\n",
            " |-- TeamName: string (nullable = true)\n",
            " |-- Discipline: string (nullable = true)\n",
            " |-- Country: string (nullable = true)\n",
            " |-- Event: string (nullable = true)\n",
            "\n"
          ]
        }
      ]
    },
    {
      "cell_type": "code",
      "source": [
        "\n",
        "\n",
        "athletes_df.select(\"PersonName\", \"Discipline\").orderBy(\"Discipline\").show()\n",
        "\n",
        "athletes_df.select(\"PersonName\")"
      ],
      "metadata": {
        "colab": {
          "base_uri": "https://localhost:8080/"
        },
        "id": "tClp88aplE3a",
        "outputId": "658c592d-8ca1-4b36-f91b-18f2627f75e5"
      },
      "execution_count": 55,
      "outputs": [
        {
          "output_type": "stream",
          "name": "stdout",
          "text": [
            "+------------------+--------------+\n",
            "|        PersonName|    Discipline|\n",
            "+------------------+--------------+\n",
            "|   BOGAERTS Rafael|3x3 Basketball|\n",
            "|   PAGET Marie-Eve|3x3 Basketball|\n",
            "|BAYASGALAN Solongo|3x3 Basketball|\n",
            "|      YAMAMOTO Mai|3x3 Basketball|\n",
            "|    BEKKERING Ross|3x3 Basketball|\n",
            "|   PAWLOWSKI Pawel|3x3 Basketball|\n",
            "|         BROWN Ira|3x3 Basketball|\n",
            "|       KOZIK Yulia|3x3 Basketball|\n",
            "|      CAVARS Agnis|3x3 Basketball|\n",
            "|    PISKLOV Kirill|3x3 Basketball|\n",
            "|        CELIS Nick|3x3 Basketball|\n",
            "|         LI Haonan|3x3 Basketball|\n",
            "|  CONSOLINI Chiara|3x3 Basketball|\n",
            "|       PLUM Kelsey|3x3 Basketball|\n",
            "|      CUIC Claudia|3x3 Basketball|\n",
            "| ONOLBAATAR Khulan|3x3 Basketball|\n",
            "|     D ALIE Raelin|3x3 Basketball|\n",
            "| RATKOV Aleksandar|3x3 Basketball|\n",
            "|   DOLSON Stefanie|3x3 Basketball|\n",
            "|    MARIEN Thierry|3x3 Basketball|\n",
            "+------------------+--------------+\n",
            "only showing top 20 rows\n",
            "\n"
          ]
        }
      ]
    },
    {
      "cell_type": "code",
      "source": [],
      "metadata": {
        "id": "lf4VGIYdlhcv"
      },
      "execution_count": null,
      "outputs": []
    }
  ]
}