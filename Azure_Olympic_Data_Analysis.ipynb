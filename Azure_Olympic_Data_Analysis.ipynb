{
  "nbformat": 4,
  "nbformat_minor": 0,
  "metadata": {
    "colab": {
      "provenance": [],
      "authorship_tag": "ABX9TyNBVwFrsNOeP762u4X4lZ3Q"
    },
    "kernelspec": {
      "name": "python3",
      "display_name": "Python 3"
    },
    "language_info": {
      "name": "python"
    }
  },
  "cells": [
    {
      "cell_type": "code",
      "source": [
        "pip install pyspark"
      ],
      "metadata": {
        "colab": {
          "base_uri": "https://localhost:8080/"
        },
        "id": "DwtK0nUbWidv",
        "outputId": "90f4491c-a0f6-4e9e-f6df-e63f1350767e"
      },
      "execution_count": 1,
      "outputs": [
        {
          "output_type": "stream",
          "name": "stdout",
          "text": [
            "Collecting pyspark\n",
            "  Downloading pyspark-3.5.1.tar.gz (317.0 MB)\n",
            "\u001b[2K     \u001b[90m━━━━━━━━━━━━━━━━━━━━━━━━━━━━━━━━━━━━━━━━\u001b[0m \u001b[32m317.0/317.0 MB\u001b[0m \u001b[31m1.6 MB/s\u001b[0m eta \u001b[36m0:00:00\u001b[0m\n",
            "\u001b[?25h  Preparing metadata (setup.py) ... \u001b[?25l\u001b[?25hdone\n",
            "Requirement already satisfied: py4j==0.10.9.7 in /usr/local/lib/python3.10/dist-packages (from pyspark) (0.10.9.7)\n",
            "Building wheels for collected packages: pyspark\n",
            "  Building wheel for pyspark (setup.py) ... \u001b[?25l\u001b[?25hdone\n",
            "  Created wheel for pyspark: filename=pyspark-3.5.1-py2.py3-none-any.whl size=317488491 sha256=d04b4d31268b0425b32b604dd27d0eda9c1c0967196ab8acf74e1c4c650cb769\n",
            "  Stored in directory: /root/.cache/pip/wheels/80/1d/60/2c256ed38dddce2fdd93be545214a63e02fbd8d74fb0b7f3a6\n",
            "Successfully built pyspark\n",
            "Installing collected packages: pyspark\n",
            "Successfully installed pyspark-3.5.1\n"
          ]
        }
      ]
    },
    {
      "cell_type": "code",
      "execution_count": 2,
      "metadata": {
        "id": "stj5GYXbWOFv"
      },
      "outputs": [],
      "source": [
        "import pyspark\n",
        "import pandas as pd\n",
        "from pyspark.sql import SparkSession\n",
        "from pyspark.sql.functions import col, abs, count, sum\n",
        "from pyspark.sql.types import IntegerType, DoubleType, BooleanType, DateType\n",
        "\n",
        "spark = SparkSession.builder.getOrCreate()"
      ]
    },
    {
      "cell_type": "code",
      "source": [
        "#Read data using pandas\n",
        "import pandas as pd\n",
        "athletes_url = \"https://raw.githubusercontent.com/melbinmv/Azure_Olympic/master/data/Athletes.csv\"\n",
        "coaches_url = \"https://raw.githubusercontent.com/melbinmv/Azure_Olympic/master/data/Coaches.csv\"\n",
        "entriesgender_url = \"https://raw.githubusercontent.com/melbinmv/Azure_Olympic/master/data/EntriesGender.csv\"\n",
        "medals_url = \"https://raw.githubusercontent.com/melbinmv/Azure_Olympic/master/data/Medals.csv\"\n",
        "teams_url = \"https://raw.githubusercontent.com/melbinmv/Azure_Olympic/master/data/Teams.csv\"\n",
        "\n",
        "\n",
        "athelets = pd.read_csv(athletes_url, encoding='latin-1')\n",
        "coaches = pd.read_csv(coaches_url, encoding='latin-1')\n",
        "entriesgender = pd.read_csv(entriesgender_url, encoding='latin-1')\n",
        "medals = pd.read_csv(medals_url, encoding='latin-1')\n",
        "teams = pd.read_csv(teams_url, encoding='latin-1')\n",
        "\n",
        "#Convert into a spark dataframe\n",
        "athletes_df = spark.createDataFrame(athelets)\n",
        "coaches_df = spark.createDataFrame(coaches)\n",
        "entriesgender_df = spark.createDataFrame(entriesgender)\n",
        "medals_df = spark.createDataFrame(medals)\n",
        "teams_df = spark.createDataFrame(teams)"
      ],
      "metadata": {
        "id": "skfzxoPVYnll"
      },
      "execution_count": 3,
      "outputs": []
    },
    {
      "cell_type": "code",
      "source": [
        "athletes_df.show(10)"
      ],
      "metadata": {
        "colab": {
          "base_uri": "https://localhost:8080/"
        },
        "id": "KOshqm1VeNDG",
        "outputId": "433c9716-ab74-4849-d1db-c1ee0682421b"
      },
      "execution_count": 4,
      "outputs": [
        {
          "output_type": "stream",
          "name": "stdout",
          "text": [
            "+-----------------+--------------------+-------------------+\n",
            "|       PersonName|             Country|         Discipline|\n",
            "+-----------------+--------------------+-------------------+\n",
            "|  AALERUD Katrine|              Norway|       Cycling Road|\n",
            "|      ABAD Nestor|               Spain|Artistic Gymnastics|\n",
            "|ABAGNALE Giovanni|               Italy|             Rowing|\n",
            "|   ABALDE Alberto|               Spain|         Basketball|\n",
            "|    ABALDE Tamara|               Spain|         Basketball|\n",
            "|        ABALO Luc|              France|           Handball|\n",
            "|     ABAROA Cesar|               Chile|             Rowing|\n",
            "|    ABASS Abobakr|               Sudan|           Swimming|\n",
            "| ABBASALI Hamideh|Islamic Republic ...|             Karate|\n",
            "|    ABBASOV Islam|          Azerbaijan|          Wrestling|\n",
            "+-----------------+--------------------+-------------------+\n",
            "only showing top 10 rows\n",
            "\n"
          ]
        }
      ]
    },
    {
      "cell_type": "code",
      "source": [
        "athletes_df.printSchema()"
      ],
      "metadata": {
        "colab": {
          "base_uri": "https://localhost:8080/"
        },
        "id": "j0N4uNMYeb_q",
        "outputId": "f785aab4-7b70-4544-b37a-990c37c31856"
      },
      "execution_count": 5,
      "outputs": [
        {
          "output_type": "stream",
          "name": "stdout",
          "text": [
            "root\n",
            " |-- PersonName: string (nullable = true)\n",
            " |-- Country: string (nullable = true)\n",
            " |-- Discipline: string (nullable = true)\n",
            "\n"
          ]
        }
      ]
    },
    {
      "cell_type": "code",
      "source": [
        "coaches_df.show(10)"
      ],
      "metadata": {
        "colab": {
          "base_uri": "https://localhost:8080/"
        },
        "id": "E05L53K3WVl-",
        "outputId": "84a32a62-fc7a-441f-8adf-a8f2649e5404"
      },
      "execution_count": 6,
      "outputs": [
        {
          "output_type": "stream",
          "name": "stdout",
          "text": [
            "+--------------------+--------------------+-----------------+--------+\n",
            "|                Name|             Country|       Discipline|   Event|\n",
            "+--------------------+--------------------+-----------------+--------+\n",
            "|     ABDELMAGID Wael|               Egypt|         Football|     NaN|\n",
            "|           ABE Junya|               Japan|       Volleyball|     NaN|\n",
            "|       ABE Katsuhiko|               Japan|       Basketball|     NaN|\n",
            "|        ADAMA Cherif|       Côte d'Ivoire|         Football|     NaN|\n",
            "|          AGEBA Yuya|               Japan|       Volleyball|     NaN|\n",
            "|AIKMAN Siegfried ...|               Japan|           Hockey|     Men|\n",
            "|       AL SAADI Kais|             Germany|           Hockey|     Men|\n",
            "|       ALAMEDA Lonni|              Canada|Baseball/Softball|Softball|\n",
            "|     ALEKNO Vladimir|Islamic Republic ...|       Volleyball|     Men|\n",
            "|     ALEKSEEV Alexey|                 ROC|         Handball|   Women|\n",
            "+--------------------+--------------------+-----------------+--------+\n",
            "only showing top 10 rows\n",
            "\n"
          ]
        }
      ]
    },
    {
      "cell_type": "code",
      "source": [
        "coaches_df.printSchema()"
      ],
      "metadata": {
        "colab": {
          "base_uri": "https://localhost:8080/"
        },
        "id": "-yPV2cere2w5",
        "outputId": "8647eba0-5d29-4198-b9cf-5c8eb10b3c53"
      },
      "execution_count": 7,
      "outputs": [
        {
          "output_type": "stream",
          "name": "stdout",
          "text": [
            "root\n",
            " |-- Name: string (nullable = true)\n",
            " |-- Country: string (nullable = true)\n",
            " |-- Discipline: string (nullable = true)\n",
            " |-- Event: string (nullable = true)\n",
            "\n"
          ]
        }
      ]
    },
    {
      "cell_type": "code",
      "source": [
        "entriesgender_df.show(10)"
      ],
      "metadata": {
        "colab": {
          "base_uri": "https://localhost:8080/"
        },
        "id": "_ZWWGmfge4h_",
        "outputId": "ada97f58-3ce1-4b87-ac43-5c6118da27ff"
      },
      "execution_count": 8,
      "outputs": [
        {
          "output_type": "stream",
          "name": "stdout",
          "text": [
            "+-------------------+------+----+-----+\n",
            "|         Discipline|Female|Male|Total|\n",
            "+-------------------+------+----+-----+\n",
            "|     3x3 Basketball|    32|  32|   64|\n",
            "|            Archery|    64|  64|  128|\n",
            "|Artistic Gymnastics|    98|  98|  196|\n",
            "|  Artistic Swimming|   105|   0|  105|\n",
            "|          Athletics|   969|1072| 2041|\n",
            "|          Badminton|    86|  87|  173|\n",
            "|  Baseball/Softball|    90| 144|  234|\n",
            "|         Basketball|   144| 144|  288|\n",
            "|   Beach Volleyball|    48|  48|   96|\n",
            "|             Boxing|   102| 187|  289|\n",
            "+-------------------+------+----+-----+\n",
            "only showing top 10 rows\n",
            "\n"
          ]
        }
      ]
    },
    {
      "cell_type": "code",
      "source": [
        "entriesgender_df.printSchema()"
      ],
      "metadata": {
        "colab": {
          "base_uri": "https://localhost:8080/"
        },
        "id": "7RNqXvUze9IV",
        "outputId": "ce1aea01-4bb5-4319-e4f6-dc6fe5ab176f"
      },
      "execution_count": 9,
      "outputs": [
        {
          "output_type": "stream",
          "name": "stdout",
          "text": [
            "root\n",
            " |-- Discipline: string (nullable = true)\n",
            " |-- Female: long (nullable = true)\n",
            " |-- Male: long (nullable = true)\n",
            " |-- Total: long (nullable = true)\n",
            "\n"
          ]
        }
      ]
    },
    {
      "cell_type": "code",
      "source": [
        "#Converting entries gender rows to integer\n",
        "entriesgender_df = entriesgender_df.withColumn(\"Female\",col(\"Female\").cast(IntegerType()))\\\n",
        "    .withColumn(\"Male\",col(\"Male\").cast(IntegerType()))\\\n",
        "    .withColumn(\"Total\",col(\"Total\").cast(IntegerType()))"
      ],
      "metadata": {
        "id": "8SERFL9PfCEO"
      },
      "execution_count": 10,
      "outputs": []
    },
    {
      "cell_type": "code",
      "source": [
        "medals_df.show(10)"
      ],
      "metadata": {
        "colab": {
          "base_uri": "https://localhost:8080/"
        },
        "id": "XnPvGu09hQIs",
        "outputId": "f2098faf-2784-4c6f-cb74-b71db3c15562"
      },
      "execution_count": 11,
      "outputs": [
        {
          "output_type": "stream",
          "name": "stdout",
          "text": [
            "+----+--------------------+----+------+------+-----+-------------+\n",
            "|Rank|        Team_Country|Gold|Silver|Bronze|Total|Rank by Total|\n",
            "+----+--------------------+----+------+------+-----+-------------+\n",
            "|   1|United States of ...|  39|    41|    33|  113|            1|\n",
            "|   2|People's Republic...|  38|    32|    18|   88|            2|\n",
            "|   3|               Japan|  27|    14|    17|   58|            5|\n",
            "|   4|       Great Britain|  22|    21|    22|   65|            4|\n",
            "|   5|                 ROC|  20|    28|    23|   71|            3|\n",
            "|   6|           Australia|  17|     7|    22|   46|            6|\n",
            "|   7|         Netherlands|  10|    12|    14|   36|            9|\n",
            "|   8|              France|  10|    12|    11|   33|           10|\n",
            "|   9|             Germany|  10|    11|    16|   37|            8|\n",
            "|  10|               Italy|  10|    10|    20|   40|            7|\n",
            "+----+--------------------+----+------+------+-----+-------------+\n",
            "only showing top 10 rows\n",
            "\n"
          ]
        }
      ]
    },
    {
      "cell_type": "code",
      "source": [
        "medals_df.printSchema()"
      ],
      "metadata": {
        "colab": {
          "base_uri": "https://localhost:8080/"
        },
        "id": "JZsUJv_3hyo-",
        "outputId": "6ef8819b-80e4-445e-88b3-11b946e6c724"
      },
      "execution_count": 12,
      "outputs": [
        {
          "output_type": "stream",
          "name": "stdout",
          "text": [
            "root\n",
            " |-- Rank: long (nullable = true)\n",
            " |-- Team_Country: string (nullable = true)\n",
            " |-- Gold: long (nullable = true)\n",
            " |-- Silver: long (nullable = true)\n",
            " |-- Bronze: long (nullable = true)\n",
            " |-- Total: long (nullable = true)\n",
            " |-- Rank by Total: long (nullable = true)\n",
            "\n"
          ]
        }
      ]
    },
    {
      "cell_type": "code",
      "source": [
        "medals_df = medals_df.withColumn(\"Gold\",col(\"Gold\").cast(IntegerType()))\\\n",
        "    .withColumn(\"Silver\",col(\"Silver\").cast(IntegerType()))\\\n",
        "    .withColumn(\"Bronze\",col(\"Bronze\").cast(IntegerType()))\\\n",
        "    .withColumn(\"Total\",col(\"Total\").cast(IntegerType()))"
      ],
      "metadata": {
        "id": "N1WsH0Myh2gT"
      },
      "execution_count": 13,
      "outputs": []
    },
    {
      "cell_type": "code",
      "source": [
        "teams_df.show(10)"
      ],
      "metadata": {
        "colab": {
          "base_uri": "https://localhost:8080/"
        },
        "id": "ocMj1i-qj0Mo",
        "outputId": "7b431c0b-b0dd-40bf-db9c-567fbce93bd3"
      },
      "execution_count": 14,
      "outputs": [
        {
          "output_type": "stream",
          "name": "stdout",
          "text": [
            "+-----------+--------------+--------------------+-----+\n",
            "|   TeamName|    Discipline|             Country|Event|\n",
            "+-----------+--------------+--------------------+-----+\n",
            "|    Belgium|3x3 Basketball|             Belgium|  Men|\n",
            "|      China|3x3 Basketball|People's Republic...|  Men|\n",
            "|      China|3x3 Basketball|People's Republic...|Women|\n",
            "|     France|3x3 Basketball|              France|Women|\n",
            "|      Italy|3x3 Basketball|               Italy|Women|\n",
            "|      Japan|3x3 Basketball|               Japan|  Men|\n",
            "|      Japan|3x3 Basketball|               Japan|Women|\n",
            "|     Latvia|3x3 Basketball|              Latvia|  Men|\n",
            "|   Mongolia|3x3 Basketball|            Mongolia|Women|\n",
            "|Netherlands|3x3 Basketball|         Netherlands|  Men|\n",
            "+-----------+--------------+--------------------+-----+\n",
            "only showing top 10 rows\n",
            "\n"
          ]
        }
      ]
    },
    {
      "cell_type": "code",
      "source": [
        "teams_df.printSchema()"
      ],
      "metadata": {
        "colab": {
          "base_uri": "https://localhost:8080/"
        },
        "id": "CV8hrwtplAdv",
        "outputId": "37e7eb9d-e3eb-4ffc-8ce3-097aaae0e2e8"
      },
      "execution_count": 15,
      "outputs": [
        {
          "output_type": "stream",
          "name": "stdout",
          "text": [
            "root\n",
            " |-- TeamName: string (nullable = true)\n",
            " |-- Discipline: string (nullable = true)\n",
            " |-- Country: string (nullable = true)\n",
            " |-- Event: string (nullable = true)\n",
            "\n"
          ]
        }
      ]
    },
    {
      "cell_type": "code",
      "source": [
        "\n",
        "\n",
        "athletes_df.select(\"PersonName\", \"Discipline\").orderBy(\"Discipline\").show()\n",
        "\n",
        "athletes_df.select(\"PersonName\")"
      ],
      "metadata": {
        "colab": {
          "base_uri": "https://localhost:8080/"
        },
        "id": "tClp88aplE3a",
        "outputId": "82477725-7dbe-42f2-dd97-553170179b5c"
      },
      "execution_count": 16,
      "outputs": [
        {
          "output_type": "stream",
          "name": "stdout",
          "text": [
            "+------------------+--------------+\n",
            "|        PersonName|    Discipline|\n",
            "+------------------+--------------+\n",
            "|   BOGAERTS Rafael|3x3 Basketball|\n",
            "|   PAGET Marie-Eve|3x3 Basketball|\n",
            "|BAYASGALAN Solongo|3x3 Basketball|\n",
            "|      YAMAMOTO Mai|3x3 Basketball|\n",
            "|    BEKKERING Ross|3x3 Basketball|\n",
            "|   PAWLOWSKI Pawel|3x3 Basketball|\n",
            "|         BROWN Ira|3x3 Basketball|\n",
            "|       KOZIK Yulia|3x3 Basketball|\n",
            "|      CAVARS Agnis|3x3 Basketball|\n",
            "|    PISKLOV Kirill|3x3 Basketball|\n",
            "|        CELIS Nick|3x3 Basketball|\n",
            "|         LI Haonan|3x3 Basketball|\n",
            "|  CONSOLINI Chiara|3x3 Basketball|\n",
            "|       PLUM Kelsey|3x3 Basketball|\n",
            "|      CUIC Claudia|3x3 Basketball|\n",
            "| ONOLBAATAR Khulan|3x3 Basketball|\n",
            "|     D ALIE Raelin|3x3 Basketball|\n",
            "| RATKOV Aleksandar|3x3 Basketball|\n",
            "|   DOLSON Stefanie|3x3 Basketball|\n",
            "|    MARIEN Thierry|3x3 Basketball|\n",
            "+------------------+--------------+\n",
            "only showing top 20 rows\n",
            "\n"
          ]
        },
        {
          "output_type": "execute_result",
          "data": {
            "text/plain": [
              "DataFrame[PersonName: string]"
            ]
          },
          "metadata": {},
          "execution_count": 16
        }
      ]
    },
    {
      "cell_type": "code",
      "source": [
        "# Calculate gender disparity and identify the discipline with the highest value\n",
        "entriesgender_df.withColumn(\"GenderDisparity\", abs(col(\"Female\") - col(\"Male\")))\\\n",
        "    .orderBy(\"GenderDisparity\", ascending=False)\\\n",
        "    .show(5)\n"
      ],
      "metadata": {
        "colab": {
          "base_uri": "https://localhost:8080/"
        },
        "id": "kc6LCgKWp5rL",
        "outputId": "7cf0170e-da0d-4072-b485-6a70d8c92998"
      },
      "execution_count": 17,
      "outputs": [
        {
          "output_type": "stream",
          "name": "stdout",
          "text": [
            "+-------------------+------+----+-----+---------------+\n",
            "|         Discipline|Female|Male|Total|GenderDisparity|\n",
            "+-------------------+------+----+-----+---------------+\n",
            "|  Artistic Swimming|   105|   0|  105|            105|\n",
            "|          Athletics|   969|1072| 2041|            103|\n",
            "|          Wrestling|    96| 193|  289|             97|\n",
            "|Rhythmic Gymnastics|    96|   0|   96|             96|\n",
            "|             Boxing|   102| 187|  289|             85|\n",
            "+-------------------+------+----+-----+---------------+\n",
            "only showing top 5 rows\n",
            "\n"
          ]
        }
      ]
    },
    {
      "cell_type": "code",
      "source": [
        "# Calculate gender disparity and identify the discipline with the lowest value\n",
        "entriesgender_df = entriesgender_df.withColumn(\"GenderDisparity\", abs(col(\"Female\") - col(\"Male\")))\n",
        "\n",
        "entriesgender_df.filter(col(\"GenderDisparity\") != 0).orderBy(\"GenderDisparity\").show(5)"
      ],
      "metadata": {
        "colab": {
          "base_uri": "https://localhost:8080/"
        },
        "id": "EiszpZEpsiMy",
        "outputId": "0eb8e5a3-486a-4c95-8efc-f26c9d41f508"
      },
      "execution_count": 18,
      "outputs": [
        {
          "output_type": "stream",
          "name": "stdout",
          "text": [
            "+--------------------+------+----+-----+---------------+\n",
            "|          Discipline|Female|Male|Total|GenderDisparity|\n",
            "+--------------------+------+----+-----+---------------+\n",
            "|Cycling BMX Frees...|    10|   9|   19|              1|\n",
            "|       Weightlifting|    98|  99|  197|              1|\n",
            "|             Fencing|   107| 108|  215|              1|\n",
            "|           Badminton|    86|  87|  173|              1|\n",
            "|              Diving|    72|  71|  143|              1|\n",
            "+--------------------+------+----+-----+---------------+\n",
            "only showing top 5 rows\n",
            "\n"
          ]
        }
      ]
    },
    {
      "cell_type": "code",
      "source": [
        "entriesgender_df.count()"
      ],
      "metadata": {
        "colab": {
          "base_uri": "https://localhost:8080/"
        },
        "id": "jNSrjLKDD_dJ",
        "outputId": "dd8b503f-a0ee-40b5-c895-f86071c480d9"
      },
      "execution_count": 34,
      "outputs": [
        {
          "output_type": "execute_result",
          "data": {
            "text/plain": [
              "46"
            ]
          },
          "metadata": {},
          "execution_count": 34
        }
      ]
    },
    {
      "cell_type": "code",
      "source": [
        "gender_disparity_pd = entriesgender_df.toPandas()\n",
        "import matplotlib.pyplot as plt\n",
        "plt.bar(gender_disparity_pd['Discipline'], gender_disparity_pd['GenderDisparity'])\n",
        "plt.xlabel('Discipline')\n",
        "plt.ylabel('Gender Disparity')\n",
        "plt.title('Gender Disparity by Discipline')\n",
        "plt.xticks(rotation=90)\n",
        "plt.tight_layout()\n",
        "plt.show()"
      ],
      "metadata": {
        "colab": {
          "base_uri": "https://localhost:8080/",
          "height": 487
        },
        "id": "AsGPq3OVu-3H",
        "outputId": "1183e766-6487-4d60-832b-72f32ddb5686"
      },
      "execution_count": 19,
      "outputs": [
        {
          "output_type": "display_data",
          "data": {
            "text/plain": [
              "<Figure size 640x480 with 1 Axes>"
            ],
            "image/png": "[encoded data removed]"
          },
          "metadata": {}
        }
      ]
    },
    {
      "cell_type": "code",
      "source": [
        "#Find which discipline had teams from the most number of countries participating?\n",
        "teams_df.groupBy(\"Discipline\").agg(count(\"Country\").alias(\"Country_count\")).orderBy(\"Country_count\", ascending=False).show()"
      ],
      "metadata": {
        "colab": {
          "base_uri": "https://localhost:8080/"
        },
        "id": "xozkd8soxXIy",
        "outputId": "482a4fd3-b574-4a89-a562-1ce6b959fc06"
      },
      "execution_count": 20,
      "outputs": [
        {
          "output_type": "stream",
          "name": "stdout",
          "text": [
            "+-------------------+-------------+\n",
            "|         Discipline|Country_count|\n",
            "+-------------------+-------------+\n",
            "|           Swimming|          113|\n",
            "|          Athletics|           79|\n",
            "|      Cycling Track|           64|\n",
            "|            Archery|           53|\n",
            "|            Fencing|           52|\n",
            "|   Beach Volleyball|           48|\n",
            "|       Table Tennis|           48|\n",
            "|  Artistic Swimming|           32|\n",
            "|           Football|           28|\n",
            "|         Basketball|           24|\n",
            "|Artistic Gymnastics|           24|\n",
            "|           Handball|           24|\n",
            "|       Rugby Sevens|           24|\n",
            "|         Volleyball|           24|\n",
            "|             Hockey|           24|\n",
            "|         Water Polo|           22|\n",
            "|          Triathlon|           18|\n",
            "|     3x3 Basketball|           16|\n",
            "|Rhythmic Gymnastics|           14|\n",
            "|  Baseball/Softball|           12|\n",
            "+-------------------+-------------+\n",
            "\n"
          ]
        }
      ]
    },
    {
      "cell_type": "code",
      "source": [
        "# Calculate the average number of entries by gender for each discipline\n",
        "average_entries_by_gender = entriesgender_df.withColumn(\n",
        "    'Avg_Female', (entriesgender_df['Female'] / entriesgender_df['Total']) * 100\n",
        ").withColumn(\n",
        "    'Avg_Male', (entriesgender_df['Male'] / entriesgender_df['Total']) * 100\n",
        ")\n",
        "average_entries_by_gender.show()\n"
      ],
      "metadata": {
        "colab": {
          "base_uri": "https://localhost:8080/"
        },
        "id": "rC1qPwKv2bym",
        "outputId": "14b6ae9a-6134-46b7-ede5-ba3111c5bf06"
      },
      "execution_count": 21,
      "outputs": [
        {
          "output_type": "stream",
          "name": "stdout",
          "text": [
            "+--------------------+------+----+-----+---------------+------------------+------------------+\n",
            "|          Discipline|Female|Male|Total|GenderDisparity|        Avg_Female|          Avg_Male|\n",
            "+--------------------+------+----+-----+---------------+------------------+------------------+\n",
            "|      3x3 Basketball|    32|  32|   64|              0|              50.0|              50.0|\n",
            "|             Archery|    64|  64|  128|              0|              50.0|              50.0|\n",
            "| Artistic Gymnastics|    98|  98|  196|              0|              50.0|              50.0|\n",
            "|   Artistic Swimming|   105|   0|  105|            105|             100.0|               0.0|\n",
            "|           Athletics|   969|1072| 2041|            103| 47.47672709456149| 52.52327290543851|\n",
            "|           Badminton|    86|  87|  173|              1| 49.71098265895954| 50.28901734104046|\n",
            "|   Baseball/Softball|    90| 144|  234|             54| 38.46153846153847| 61.53846153846154|\n",
            "|          Basketball|   144| 144|  288|              0|              50.0|              50.0|\n",
            "|    Beach Volleyball|    48|  48|   96|              0|              50.0|              50.0|\n",
            "|              Boxing|   102| 187|  289|             85|35.294117647058826| 64.70588235294117|\n",
            "|        Canoe Slalom|    41|  41|   82|              0|              50.0|              50.0|\n",
            "|        Canoe Sprint|   123| 126|  249|              3| 49.39759036144578|50.602409638554214|\n",
            "|Cycling BMX Frees...|    10|   9|   19|              1| 52.63157894736842|47.368421052631575|\n",
            "|  Cycling BMX Racing|    24|  24|   48|              0|              50.0|              50.0|\n",
            "|Cycling Mountain ...|    38|  38|   76|              0|              50.0|              50.0|\n",
            "|        Cycling Road|    70| 131|  201|             61| 34.82587064676617| 65.17412935323384|\n",
            "|       Cycling Track|    90|  99|  189|              9| 47.61904761904761| 52.38095238095239|\n",
            "|              Diving|    72|  71|  143|              1|50.349650349650354| 49.65034965034965|\n",
            "|          Equestrian|    73| 125|  198|             52|36.868686868686865| 63.13131313131313|\n",
            "|             Fencing|   107| 108|  215|              1| 49.76744186046512| 50.23255813953489|\n",
            "+--------------------+------+----+-----+---------------+------------------+------------------+\n",
            "only showing top 20 rows\n",
            "\n"
          ]
        }
      ]
    },
    {
      "cell_type": "code",
      "source": [
        "#Creating temporary views\n",
        "athletes_df.createOrReplaceTempView(\"Athletes\")\n",
        "coaches_df.createOrReplaceTempView(\"Coaches\")\n",
        "entriesgender_df.createOrReplaceTempView(\"EntriesGender\")\n",
        "medals_df.createOrReplaceTempView(\"Medals\")\n",
        "teams_df.createOrReplaceTempView(\"Teams\")"
      ],
      "metadata": {
        "id": "Pwb1aE9s35aT"
      },
      "execution_count": 22,
      "outputs": []
    },
    {
      "cell_type": "code",
      "source": [
        "#Joining athletes and coaches table based on Country and Discipline\n",
        "athletes_coaches = spark.sql(\"\"\"\n",
        "SELECT a.PersonName, a.Country, a.Discipline, c.Name as CoachName\n",
        "FROM Athletes a\n",
        "JOIN Coaches c ON a.Country = c.Country AND a.Discipline = c.Discipline\n",
        "\"\"\")\n",
        "athletes_coaches.show()"
      ],
      "metadata": {
        "colab": {
          "base_uri": "https://localhost:8080/"
        },
        "id": "j-ocv75VhqP0",
        "outputId": "b65f6f01-6929-4144-b685-f3135606d982"
      },
      "execution_count": 23,
      "outputs": [
        {
          "output_type": "stream",
          "name": "stdout",
          "text": [
            "+-----------------+--------------------+-----------------+----------------+\n",
            "|       PersonName|             Country|       Discipline|       CoachName|\n",
            "+-----------------+--------------------+-----------------+----------------+\n",
            "|NEMICH Yekaterina|          Kazakhstan|Artistic Swimming|DEMCHENKO Zhanna|\n",
            "| NEMICH Alexandra|          Kazakhstan|Artistic Swimming|DEMCHENKO Zhanna|\n",
            "|           ZHU Yu|People's Republic...|         Football|     JIA Xiuquan|\n",
            "|        ZHANG Xin|People's Republic...|         Football|     JIA Xiuquan|\n",
            "|         YANG Man|People's Republic...|         Football|     JIA Xiuquan|\n",
            "|        YANG Lina|People's Republic...|         Football|     JIA Xiuquan|\n",
            "|        XIAO Yuyi|People's Republic...|         Football|     JIA Xiuquan|\n",
            "|       WURIGUMULA|People's Republic...|         Football|     JIA Xiuquan|\n",
            "|        WANG Ying|People's Republic...|         Football|     JIA Xiuquan|\n",
            "|      WANG Yanwen|People's Republic...|         Football|     JIA Xiuquan|\n",
            "|         WANG Yan|People's Republic...|         Football|     JIA Xiuquan|\n",
            "|     WANG Xiaoxue|People's Republic...|         Football|     JIA Xiuquan|\n",
            "|      WANG Shuang|People's Republic...|         Football|     JIA Xiuquan|\n",
            "|    WANG Shanshan|People's Republic...|         Football|     JIA Xiuquan|\n",
            "|       MIAO Siwen|People's Republic...|         Football|     JIA Xiuquan|\n",
            "|      LUO Guiping|People's Republic...|         Football|     JIA Xiuquan|\n",
            "|         LIU Jing|People's Republic...|         Football|     JIA Xiuquan|\n",
            "|       LIN Yuping|People's Republic...|         Football|     JIA Xiuquan|\n",
            "|      LI Qingtong|People's Republic...|         Football|     JIA Xiuquan|\n",
            "|       LI Mengwen|People's Republic...|         Football|     JIA Xiuquan|\n",
            "+-----------------+--------------------+-----------------+----------------+\n",
            "only showing top 20 rows\n",
            "\n"
          ]
        }
      ]
    },
    {
      "cell_type": "code",
      "source": [
        "#Showing coaches from the country\n",
        "spark.sql(\"\"\"SELECT name FROM coaches where Country = \"People's Republic of China\" \"\"\").show()"
      ],
      "metadata": {
        "colab": {
          "base_uri": "https://localhost:8080/"
        },
        "id": "pMzWyG6bmuYu",
        "outputId": "8ce2dfca-bf90-4d4d-d3c1-ff9dfad11959"
      },
      "execution_count": 24,
      "outputs": [
        {
          "output_type": "stream",
          "name": "stdout",
          "text": [
            "+--------------------+\n",
            "|                name|\n",
            "+--------------------+\n",
            "|          BAO Zhuang|\n",
            "|         JIA Xiuquan|\n",
            "|           LANG Ping|\n",
            "|MACKINTOSH Euan M...|\n",
            "|   MULATI Adilijiang|\n",
            "|       POROBIC Petar|\n",
            "|            WANG Jie|\n",
            "|            WANG Jie|\n",
            "|           WANG Yang|\n",
            "|            XU Limin|\n",
            "|         YUAN Lingxi|\n",
            "|      ZHANG Xiaohuan|\n",
            "+--------------------+\n",
            "\n"
          ]
        }
      ]
    },
    {
      "cell_type": "code",
      "source": [
        "spark.sql(\"\"\"SELECT name FROM coaches where Country = \"People's Republic of China\" AND Discipline = \"Football\" \"\"\").show()"
      ],
      "metadata": {
        "colab": {
          "base_uri": "https://localhost:8080/"
        },
        "id": "eD_hyF5vfzYb",
        "outputId": "7d7629d4-8385-49e9-98cc-7c0da4da7198"
      },
      "execution_count": 25,
      "outputs": [
        {
          "output_type": "stream",
          "name": "stdout",
          "text": [
            "+-----------+\n",
            "|       name|\n",
            "+-----------+\n",
            "|JIA Xiuquan|\n",
            "+-----------+\n",
            "\n"
          ]
        }
      ]
    },
    {
      "cell_type": "code",
      "source": [
        "spark.sql(\"\"\"SELECT name FROM coaches where Country = \"Kazakhstan\" AND Discipline = \"Artistic Swimming\" \"\"\").show()"
      ],
      "metadata": {
        "colab": {
          "base_uri": "https://localhost:8080/"
        },
        "id": "ZWdF3ybsmWjk",
        "outputId": "26623094-cc6b-4ed4-fe80-ac676f348180"
      },
      "execution_count": 26,
      "outputs": [
        {
          "output_type": "stream",
          "name": "stdout",
          "text": [
            "+----------------+\n",
            "|            name|\n",
            "+----------------+\n",
            "|DEMCHENKO Zhanna|\n",
            "+----------------+\n",
            "\n"
          ]
        }
      ]
    },
    {
      "cell_type": "code",
      "source": [
        "athletes_teams = spark.sql(\"\"\"\n",
        "SELECT a.PersonName, a.Country, a.Discipline, t.TeamName, t.Event\n",
        "FROM Athletes a\n",
        "JOIN Teams t ON a.Country = t.Country AND a.Discipline = t.Discipline\n",
        "\"\"\")\n",
        "athletes_teams.show()"
      ],
      "metadata": {
        "colab": {
          "base_uri": "https://localhost:8080/"
        },
        "id": "Ob--DM6Ehe_d",
        "outputId": "313cb034-d29d-496c-c827-5fac6ffc9847"
      },
      "execution_count": 27,
      "outputs": [
        {
          "output_type": "stream",
          "name": "stdout",
          "text": [
            "+--------------------+--------------+-----------------+--------------+--------------------+\n",
            "|          PersonName|       Country|       Discipline|      TeamName|               Event|\n",
            "+--------------------+--------------+-----------------+--------------+--------------------+\n",
            "|      HAMMED Mohamed|       Tunisia|          Archery|       Tunisia|          Mixed Team|\n",
            "|       ELWALID Rihab|       Tunisia|          Archery|       Tunisia|          Mixed Team|\n",
            "|   NEMICH Yekaterina|    Kazakhstan|Artistic Swimming|    Kazakhstan|                Duet|\n",
            "|    NEMICH Alexandra|    Kazakhstan|Artistic Swimming|    Kazakhstan|                Duet|\n",
            "|      MARUSAVA Hanna|       Belarus|          Archery|       Belarus|        Women's Team|\n",
            "|  KAZLOUSKAYA Karyna|       Belarus|          Archery|       Belarus|        Women's Team|\n",
            "| DZIOMINSKAYA Karyna|       Belarus|          Archery|       Belarus|        Women's Team|\n",
            "|     VRZALOVA Simona|Czech Republic|        Athletics|Czech Republic|Men's 4 x 400m Relay|\n",
            "|VRABCOVA NYVLTOVA...|Czech Republic|        Athletics|Czech Republic|Men's 4 x 400m Relay|\n",
            "|       VONDROVA Lada|Czech Republic|        Athletics|Czech Republic|Men's 4 x 400m Relay|\n",
            "|    VESELY Vitezslav|Czech Republic|        Athletics|Czech Republic|Men's 4 x 400m Relay|\n",
            "|      VADLEJCH Jakub|Czech Republic|        Athletics|Czech Republic|Men's 4 x 400m Relay|\n",
            "|           TESAR Jan|Czech Republic|        Athletics|Czech Republic|Men's 4 x 400m Relay|\n",
            "|         SYKORA Jiri|Czech Republic|        Athletics|Czech Republic|Men's 4 x 400m Relay|\n",
            "|    STEWARTOVA Moira|Czech Republic|        Athletics|Czech Republic|Men's 4 x 400m Relay|\n",
            "|        STANEK Tomas|Czech Republic|        Athletics|Czech Republic|Men's 4 x 400m Relay|\n",
            "|   SPOTAKOVA Barbora|Czech Republic|        Athletics|Czech Republic|Men's 4 x 400m Relay|\n",
            "|         SORM Patrik|Czech Republic|        Athletics|Czech Republic|Men's 4 x 400m Relay|\n",
            "|  OGRODNIKOVA Nikola|Czech Republic|        Athletics|Czech Republic|Men's 4 x 400m Relay|\n",
            "|          MULLER Vit|Czech Republic|        Athletics|Czech Republic|Men's 4 x 400m Relay|\n",
            "+--------------------+--------------+-----------------+--------------+--------------------+\n",
            "only showing top 20 rows\n",
            "\n"
          ]
        }
      ]
    },
    {
      "cell_type": "code",
      "source": [
        "#Joining tables Athletes,Coaches and Team based on country and discipline\n",
        "#Event column removed in coaches table due to null values\n",
        "athletes_coaches_teams = spark.sql(\"\"\"\n",
        "SELECT a.PersonName, a.Country, a.Discipline, c.Name as CoachName,t.TeamName, t.Event as TeamEvent\n",
        "FROM Athletes a\n",
        "JOIN Coaches c ON a.Country = c.Country AND a.Discipline = c.Discipline\n",
        "JOIN Teams t ON a.Country = t.Country AND a.Discipline = t.Discipline\n",
        "\"\"\")\n",
        "athletes_coaches_teams.show()"
      ],
      "metadata": {
        "colab": {
          "base_uri": "https://localhost:8080/"
        },
        "id": "cJoepExSnOQ7",
        "outputId": "1f78dd42-9b40-4e91-affb-d9a7b34fcd94"
      },
      "execution_count": 28,
      "outputs": [
        {
          "output_type": "stream",
          "name": "stdout",
          "text": [
            "+-----------------+--------------------+-----------------+----------------+----------+---------+\n",
            "|       PersonName|             Country|       Discipline|       CoachName|  TeamName|TeamEvent|\n",
            "+-----------------+--------------------+-----------------+----------------+----------+---------+\n",
            "|NEMICH Yekaterina|          Kazakhstan|Artistic Swimming|DEMCHENKO Zhanna|Kazakhstan|     Duet|\n",
            "| NEMICH Alexandra|          Kazakhstan|Artistic Swimming|DEMCHENKO Zhanna|Kazakhstan|     Duet|\n",
            "|           ZHU Yu|People's Republic...|         Football|     JIA Xiuquan|     China|    Women|\n",
            "|        ZHANG Xin|People's Republic...|         Football|     JIA Xiuquan|     China|    Women|\n",
            "|         YANG Man|People's Republic...|         Football|     JIA Xiuquan|     China|    Women|\n",
            "|        YANG Lina|People's Republic...|         Football|     JIA Xiuquan|     China|    Women|\n",
            "|        XIAO Yuyi|People's Republic...|         Football|     JIA Xiuquan|     China|    Women|\n",
            "|       WURIGUMULA|People's Republic...|         Football|     JIA Xiuquan|     China|    Women|\n",
            "|        WANG Ying|People's Republic...|         Football|     JIA Xiuquan|     China|    Women|\n",
            "|      WANG Yanwen|People's Republic...|         Football|     JIA Xiuquan|     China|    Women|\n",
            "|         WANG Yan|People's Republic...|         Football|     JIA Xiuquan|     China|    Women|\n",
            "|     WANG Xiaoxue|People's Republic...|         Football|     JIA Xiuquan|     China|    Women|\n",
            "|      WANG Shuang|People's Republic...|         Football|     JIA Xiuquan|     China|    Women|\n",
            "|    WANG Shanshan|People's Republic...|         Football|     JIA Xiuquan|     China|    Women|\n",
            "|       MIAO Siwen|People's Republic...|         Football|     JIA Xiuquan|     China|    Women|\n",
            "|      LUO Guiping|People's Republic...|         Football|     JIA Xiuquan|     China|    Women|\n",
            "|         LIU Jing|People's Republic...|         Football|     JIA Xiuquan|     China|    Women|\n",
            "|       LIN Yuping|People's Republic...|         Football|     JIA Xiuquan|     China|    Women|\n",
            "|      LI Qingtong|People's Republic...|         Football|     JIA Xiuquan|     China|    Women|\n",
            "|       LI Mengwen|People's Republic...|         Football|     JIA Xiuquan|     China|    Women|\n",
            "+-----------------+--------------------+-----------------+----------------+----------+---------+\n",
            "only showing top 20 rows\n",
            "\n"
          ]
        }
      ]
    },
    {
      "cell_type": "code",
      "source": [
        "athletes_coaches_teams.select(\"TeamEvent\").distinct().show()\n"
      ],
      "metadata": {
        "colab": {
          "base_uri": "https://localhost:8080/"
        },
        "id": "tnL1MJ4EqG1c",
        "outputId": "1c1c24fd-2cce-450f-e138-74fd5f187be7"
      },
      "execution_count": 29,
      "outputs": [
        {
          "output_type": "stream",
          "name": "stdout",
          "text": [
            "+---------+\n",
            "|TeamEvent|\n",
            "+---------+\n",
            "| Softball|\n",
            "|     Team|\n",
            "|      Men|\n",
            "|     Duet|\n",
            "| Baseball|\n",
            "|    Women|\n",
            "+---------+\n",
            "\n"
          ]
        }
      ]
    },
    {
      "cell_type": "code",
      "source": [
        "#Showing coaches with Team event is softball and who is from canada\n",
        "athletes_coaches_teams.filter((athletes_coaches_teams['TeamEvent'] == 'Softball') & (athletes_coaches_teams['Country'] == 'Canada')).select('CoachName', 'Country').show()\n"
      ],
      "metadata": {
        "colab": {
          "base_uri": "https://localhost:8080/"
        },
        "id": "RwXWR4kjqse1",
        "outputId": "86fc19b5-a248-4036-a6f6-046ecfd809b6"
      },
      "execution_count": 30,
      "outputs": [
        {
          "output_type": "stream",
          "name": "stdout",
          "text": [
            "+-------------+-------+\n",
            "|    CoachName|Country|\n",
            "+-------------+-------+\n",
            "|ALAMEDA Lonni| Canada|\n",
            "|  BASILIO Mel| Canada|\n",
            "|  JONES Chris| Canada|\n",
            "|   SMITH Mark| Canada|\n",
            "|ALAMEDA Lonni| Canada|\n",
            "|  BASILIO Mel| Canada|\n",
            "|  JONES Chris| Canada|\n",
            "|   SMITH Mark| Canada|\n",
            "|ALAMEDA Lonni| Canada|\n",
            "|  BASILIO Mel| Canada|\n",
            "|  JONES Chris| Canada|\n",
            "|   SMITH Mark| Canada|\n",
            "|ALAMEDA Lonni| Canada|\n",
            "|  BASILIO Mel| Canada|\n",
            "|  JONES Chris| Canada|\n",
            "|   SMITH Mark| Canada|\n",
            "|ALAMEDA Lonni| Canada|\n",
            "|  BASILIO Mel| Canada|\n",
            "|  JONES Chris| Canada|\n",
            "|   SMITH Mark| Canada|\n",
            "+-------------+-------+\n",
            "only showing top 20 rows\n",
            "\n"
          ]
        }
      ]
    },
    {
      "cell_type": "code",
      "source": [
        "# Exporting the transformed data with headers\n",
        "athletes_coaches_teams.write.format(\"csv\").option(\"header\", \"true\").save(\"Athletes\")\n",
        "entriesgender_df.write.format(\"csv\").option(\"header\", \"true\").save(\"Entriesgender\")\n",
        "medals_df.write.format(\"csv\").option(\"header\", \"true\").save(\"Medals\")\n"
      ],
      "metadata": {
        "id": "BKFTLJ2DlJQk"
      },
      "execution_count": 35,
      "outputs": []
    }
  ]
}